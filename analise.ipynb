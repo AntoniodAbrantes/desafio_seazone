{
 "cells": [
  {
   "attachments": {},
   "cell_type": "markdown",
   "metadata": {},
   "source": [
    "### Importando o pandas, lendo os arquivos, juntando as duas tabelas e fazendo a limpeza dos dados"
   ]
  },
  {
   "cell_type": "code",
   "execution_count": null,
   "metadata": {},
   "outputs": [],
   "source": [
    "import pandas as pd "
   ]
  },
  {
   "cell_type": "code",
   "execution_count": null,
   "metadata": {},
   "outputs": [],
   "source": [
    "#Transformei os arquivos para XLSX pois em csv estava dando um erro de encoding para UTF-8, e mesmo colocando 'enconding = utf-8', não deu certo, então, tive essa ideia de transformar para XLSX \n",
    "df_Details = pd.read_excel('desafio_details.xlsx')\n",
    "df_Rating = pd.read_excel('desafio_ratings.xlsx')\n",
    "#Df com as cidades colocadas a mão\n",
    "df = pd.read_excel('df_clear (2).xlsx')"
   ]
  },
  {
   "cell_type": "code",
   "execution_count": null,
   "metadata": {},
   "outputs": [],
   "source": [
    "df_Details.head()"
   ]
  },
  {
   "cell_type": "code",
   "execution_count": null,
   "metadata": {},
   "outputs": [],
   "source": [
    "df_Rating.tail()"
   ]
  },
  {
   "cell_type": "code",
   "execution_count": null,
   "metadata": {},
   "outputs": [],
   "source": [
    "df_Rating.drop(df_Rating[df_Rating['number_of_ratings'] == 0].index, inplace=True)"
   ]
  },
  {
   "cell_type": "code",
   "execution_count": null,
   "metadata": {},
   "outputs": [],
   "source": [
    "df_RD = pd.concat([df_Rating, df_Details], axis=0)\n",
    "df_RD.to_excel(\"df_RD.xlsx\")\n",
    "df_RD"
   ]
  },
  {
   "cell_type": "code",
   "execution_count": null,
   "metadata": {},
   "outputs": [],
   "source": [
    "num_duplicados = df_RD[\"hotel_id\"].duplicated().sum()\n",
    "num_duplicados"
   ]
  },
  {
   "cell_type": "code",
   "execution_count": null,
   "metadata": {},
   "outputs": [],
   "source": [
    "df_RD2 = df_RD.drop_duplicates(subset=[\"hotel_id\"])\n",
    "\n",
    "ids_para_excluir = [\"10891689\", \"10846059\", \"10845958\", \"10037557\", \"9724595\", \"8726020\", \"8670985\", \"8262079\", \"7894257\", \"7869137\"]\n",
    "\n",
    "df_RD3 = df_RD2[~df_RD2[\"hotel_id\"].isin(ids_para_excluir)]\n",
    "df_RD3 = df_RD3.drop(df_RD3.columns[0], axis=1)\n",
    "df_RD3"
   ]
  },
  {
   "cell_type": "code",
   "execution_count": null,
   "metadata": {},
   "outputs": [],
   "source": [
    "nomes_para_excluir = [\"excluir-CMR1101\", \"excluir - teste\", \"excluir -teste\", \"excluir-RAF004\", \"excluir - PRI\", \"Excluir\", \"Excluir\", \"Excluir - Suíte com vista piscina em resort de luxo ILC4202 - duplicado\", \"Excluir - Studio novo e decorado próx praia Santinho EDR203\", \"EXCLUIR Chalé do Papai Noel em Gramado RAR065\", \"excluir\", \"excluir- PCO1905\", \"excluir- ILC4112\", \"excluir-EAC403\"]\n",
    "\n",
    "df_clear = df_RD3[~df_RD3['hotel_name'].isin(nomes_para_excluir)]\n",
    "df_clear = df_clear.drop('room_id', axis=1)\n",
    "df_clear.tail()\n",
    "#df_clear.to_excel(\"df_clear.xlsx\")"
   ]
  },
  {
   "cell_type": "code",
   "execution_count": null,
   "metadata": {},
   "outputs": [],
   "source": [
    "df_clear['city_name'].fillna('s/i', inplace=True)"
   ]
  },
  {
   "cell_type": "code",
   "execution_count": null,
   "metadata": {},
   "outputs": [],
   "source": [
    "contagem_zeros = (df_clear['number_of_ratings'] == 0).sum()\n",
    "\n",
    "print(f\"Os anuncios que possui 'number_of_ratings' igual a zero é: {contagem_zeros}\")"
   ]
  },
  {
   "attachments": {},
   "cell_type": "markdown",
   "metadata": {},
   "source": [
    "###### Nesses comentados, tentei completar os listings que não tinha url com a coluna hotel_name pois, achei que o nome que estava nessa coluna era o que tinha no link, mas foi um equívoco "
   ]
  },
  {
   "cell_type": "code",
   "execution_count": null,
   "metadata": {},
   "outputs": [],
   "source": [
    "#df_clear['hotel_name'] = df_clear['hotel_name'].str.replace(' ', '-') # :("
   ]
  },
  {
   "cell_type": "code",
   "execution_count": null,
   "metadata": {},
   "outputs": [],
   "source": [
    "#df_clear['url'] = df_clear.apply(\n",
    "    #lambda row: f\"https://www.booking.com/hotel/br/{row['hotel_name']}\" if pd.isna(row['url']) else row['url'],\n",
    "    ##)\n",
    "# :("
   ]
  },
  {
   "attachments": {},
   "cell_type": "markdown",
   "metadata": {},
   "source": [
    "#### 1. Ordene as cidades em ordem crescente de número de listings;"
   ]
  },
  {
   "cell_type": "code",
   "execution_count": null,
   "metadata": {},
   "outputs": [],
   "source": [
    "listings = df[\"city_name\"].value_counts()\n",
    "listings"
   ]
  },
  {
   "cell_type": "code",
   "execution_count": null,
   "metadata": {},
   "outputs": [],
   "source": [
    "cidades_ordenadas = listings.sort_values(ascending=True).to_frame().reset_index()\n",
    "cidades_ordenadas"
   ]
  },
  {
   "attachments": {},
   "cell_type": "markdown",
   "metadata": {},
   "source": [
    "#### 2. Ordene as cidades em ordem decrescente de metros quadrados;\n"
   ]
  },
  {
   "cell_type": "code",
   "execution_count": null,
   "metadata": {},
   "outputs": [],
   "source": [
    "total_m2 = df_clear.groupby(\"city_name\")[\"room_surface_in_m2\"].agg(sum)\n",
    "cidades_ordenadas = total_m2.sort_values(ascending=False).to_frame().reset_index()\n",
    "cidades_ordenadas"
   ]
  },
  {
   "attachments": {},
   "cell_type": "markdown",
   "metadata": {},
   "source": [
    "#### 3. Quais cidades têm mais avaliações?"
   ]
  },
  {
   "cell_type": "code",
   "execution_count": null,
   "metadata": {},
   "outputs": [],
   "source": [
    "total_avaliacoes = df.groupby(\"city_name\")['number_of_ratings'].sum()\n",
    "cidades_mais_avaliacoes = total_avaliacoes.sort_values(ascending=False).to_frame().reset_index()\n",
    "cidades_mais_avaliacoes"
   ]
  },
  {
   "attachments": {},
   "cell_type": "markdown",
   "metadata": {},
   "source": [
    "###### Aqui eu tentei fazer um webscraping para pegar as notas de avaliações dos usuários para ter mais dados para a análise, mas ainda assim não adiantou muito pois, tem muitos dados sem url do anúncio"
   ]
  },
  {
   "cell_type": "code",
   "execution_count": null,
   "metadata": {},
   "outputs": [],
   "source": [
    "import requests\n",
    "from bs4 import BeautifulSoup\n",
    "import pandas as pd\n",
    "\n",
    "def extract_guest_ratings(url):\n",
    "    # Fazer uma solicitação HTTP para a página\n",
    "    response = requests.get(url)\n",
    "\n",
    "    # Verificar se a solicitação foi bem-sucedida (código de status 200)\n",
    "    if response.status_code == 200:\n",
    "        soup = BeautifulSoup(response.text, 'html.parser')\n",
    "\n",
    "        # Encontrar todos os elementos de avaliação dos hóspedes\n",
    "        review_elements = soup.find_all('div', {'class': 'bui-spacer--larger'})\n",
    "\n",
    "        # Extrair as notas de todas as avaliações\n",
    "        guest_ratings = [element.text for element in review_elements]\n",
    "\n",
    "        # Extrair as categorias de avaliação\n",
    "        categories = [category.split()[0] for category in guest_ratings]\n",
    "\n",
    "        # Criar um DataFrame com as notas divididas por categoria\n",
    "        df = pd.DataFrame({'URL': [url] * len(guest_ratings)})\n",
    "        \n",
    "        for category, rating in zip(categories, guest_ratings):\n",
    "            column_name = f\"{category}_Rating\"\n",
    "            df[column_name] = [rating] * len(guest_ratings)\n",
    "\n",
    "        return df\n",
    "    else:\n",
    "        print(f\"Erro ao acessar a página {url}. Código de status: {response.status_code}\")\n",
    "        return None\n",
    "\n",
    "urls = [\n",
    "    'https://www.booking.com/hotel/br/apto-reformado-em-pousada-jurere-tradicional-psd103.html',\n",
    "    'https://www.booking.com/hotel/br/asa-norte-brasilia-nor.html'\n",
    "    'https://www.booking.com/hotel/br/metropolitan-sidney-mss.html'\n",
    "    'https://www.booking.com/hotel/br/dna-smart-style-dna.html'\n",
    "    'https://www.booking.com/hotel/br/maravilhoso-e-elegante-studio-para-casal-pgo412.html'\n",
    "    'https://www.booking.com/hotel/br/apto-em-frente-ao-shopping-flamboyant-esp2906.html']\n",
    "\n",
    "\n",
    "# Inicializar um DataFrame vazio\n",
    "final_df = pd.DataFrame()\n",
    "\n",
    "# Chamar a função para cada URL na lista e adicionar os resultados ao DataFrame\n",
    "for url in urls:\n",
    "    result_df = extract_guest_ratings(url)\n",
    "    if result_df is not None:\n",
    "        final_df = pd.concat([final_df, result_df], ignore_index=True)\n",
    "\n",
    "# Exibir o DataFrame final\n",
    "print(final_df)\n",
    "\n"
   ]
  },
  {
   "attachments": {},
   "cell_type": "markdown",
   "metadata": {},
   "source": [
    "#### 4. Quais cidades têm a maior média de avaliações? E a menor média?"
   ]
  },
  {
   "cell_type": "code",
   "execution_count": null,
   "metadata": {},
   "outputs": [],
   "source": [
    "media_por_cidade = df.groupby('city_name')['Total'].mean().reset_index()\n",
    "\n",
    "cidade_maior_media = media_por_cidade.loc[media_por_cidade['Total'].idxmax()]\n",
    "cidade_menor_media = media_por_cidade.loc[media_por_cidade['Total'].idxmin()]\n",
    "\n",
    "print(f'Cidade com a maior média: {cidade_maior_media[\"city_name\"]} - Média: {cidade_maior_media[\"Total\"]}')\n",
    "print(f'Cidade com a menor média: {cidade_menor_media[\"city_name\"]} - Média: {cidade_menor_media[\"Total\"]}')\n"
   ]
  },
  {
   "attachments": {},
   "cell_type": "markdown",
   "metadata": {},
   "source": [
    "#### 6. Existem relações entre a nota do anúncio e os recursos disponíveis no imóvel? \n"
   ]
  },
  {
   "cell_type": "code",
   "execution_count": 69,
   "metadata": {},
   "outputs": [
    {
     "name": "stdout",
     "output_type": "stream",
     "text": [
      "                    Total  Comodidades   Limpeza  Conforto  Custo-benefício  \\\n",
      "Total            1.000000     0.852476  0.739320  0.775175         0.836138   \n",
      "Comodidades      0.852476     1.000000  0.751714  0.737724         0.811097   \n",
      "Limpeza          0.739320     0.751714  1.000000  0.678202         0.720722   \n",
      "Conforto         0.775175     0.737724  0.678202  1.000000         0.773569   \n",
      "Custo-benefício  0.836138     0.811097  0.720722  0.773569         1.000000   \n",
      "Localização      0.555776     0.455359  0.512942  0.394349         0.476536   \n",
      "\n",
      "                 Localização  \n",
      "Total               0.555776  \n",
      "Comodidades         0.455359  \n",
      "Limpeza             0.512942  \n",
      "Conforto            0.394349  \n",
      "Custo-benefício     0.476536  \n",
      "Localização         1.000000  \n"
     ]
    }
   ],
   "source": [
    "\n",
    "corr = df[['Total', 'Comodidades',\t'Limpeza',\t'Conforto',\t'Custo-benefício',\t'Localização']].corr()\n",
    "print(corr)\n"
   ]
  }
 ],
 "metadata": {
  "kernelspec": {
   "display_name": "Python 3",
   "language": "python",
   "name": "python3"
  },
  "language_info": {
   "codemirror_mode": {
    "name": "ipython",
    "version": 3
   },
   "file_extension": ".py",
   "mimetype": "text/x-python",
   "name": "python",
   "nbconvert_exporter": "python",
   "pygments_lexer": "ipython3",
   "version": "3.10.2"
  },
  "orig_nbformat": 4
 },
 "nbformat": 4,
 "nbformat_minor": 2
}
